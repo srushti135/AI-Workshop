{
 "cells": [
  {
   "cell_type": "code",
   "execution_count": 92,
   "id": "babb2d83-09cf-46de-b5f3-1cdb408c7cf0",
   "metadata": {},
   "outputs": [
    {
     "name": "stdout",
     "output_type": "stream",
     "text": [
      "  Energy Source  Energy Consumption (MWh)  Cost (Million $)\n",
      "1          Wind                       NaN             400.0\n",
      "2    Hydropower                    2900.0               NaN\n"
     ]
    }
   ],
   "source": [
    "import pandas as pd\n",
    "import numpy as np\n",
    "data = {\n",
    "    \"Energy Source\": [\"Solar\", \"Wind\", \"Hydropower\", \"Geothermal\", \"Biomass\", \"Nuclear\"],\n",
    "    \"Energy Consumption (MWh)\": [1200, np.nan, 2900, np.nan, 2500, 3200],\n",
    "    \"Cost (Million $)\": [200, 400, np.nan, 150, 250, np.nan]\n",
    "}\n",
    "energy_df=pd.DataFrame(data)\n",
    "print(energy_df.iloc[[1,2]])"
   ]
  },
  {
   "cell_type": "code",
   "execution_count": 93,
   "id": "f6fc8b2d-d8a8-4cd0-b988-f5e343bdac16",
   "metadata": {},
   "outputs": [
    {
     "name": "stdout",
     "output_type": "stream",
     "text": [
      "original energy data with missing values\n"
     ]
    },
    {
     "data": {
      "text/html": [
       "<div>\n",
       "<style scoped>\n",
       "    .dataframe tbody tr th:only-of-type {\n",
       "        vertical-align: middle;\n",
       "    }\n",
       "\n",
       "    .dataframe tbody tr th {\n",
       "        vertical-align: top;\n",
       "    }\n",
       "\n",
       "    .dataframe thead th {\n",
       "        text-align: right;\n",
       "    }\n",
       "</style>\n",
       "<table border=\"1\" class=\"dataframe\">\n",
       "  <thead>\n",
       "    <tr style=\"text-align: right;\">\n",
       "      <th></th>\n",
       "      <th>Energy Source</th>\n",
       "      <th>Energy Consumption (MWh)</th>\n",
       "      <th>Cost (Million $)</th>\n",
       "    </tr>\n",
       "  </thead>\n",
       "  <tbody>\n",
       "    <tr>\n",
       "      <th>0</th>\n",
       "      <td>Solar</td>\n",
       "      <td>1200.0</td>\n",
       "      <td>200.0</td>\n",
       "    </tr>\n",
       "    <tr>\n",
       "      <th>1</th>\n",
       "      <td>Wind</td>\n",
       "      <td>NaN</td>\n",
       "      <td>400.0</td>\n",
       "    </tr>\n",
       "    <tr>\n",
       "      <th>2</th>\n",
       "      <td>Hydropower</td>\n",
       "      <td>2900.0</td>\n",
       "      <td>NaN</td>\n",
       "    </tr>\n",
       "    <tr>\n",
       "      <th>3</th>\n",
       "      <td>Geothermal</td>\n",
       "      <td>NaN</td>\n",
       "      <td>150.0</td>\n",
       "    </tr>\n",
       "    <tr>\n",
       "      <th>4</th>\n",
       "      <td>Biomass</td>\n",
       "      <td>2500.0</td>\n",
       "      <td>250.0</td>\n",
       "    </tr>\n",
       "  </tbody>\n",
       "</table>\n",
       "</div>"
      ],
      "text/plain": [
       "  Energy Source  Energy Consumption (MWh)  Cost (Million $)\n",
       "0         Solar                    1200.0             200.0\n",
       "1          Wind                       NaN             400.0\n",
       "2    Hydropower                    2900.0               NaN\n",
       "3    Geothermal                       NaN             150.0\n",
       "4       Biomass                    2500.0             250.0"
      ]
     },
     "execution_count": 93,
     "metadata": {},
     "output_type": "execute_result"
    }
   ],
   "source": [
    "print(\"original energy data with missing values\")\n",
    "energy_df.head()"
   ]
  },
  {
   "cell_type": "code",
   "execution_count": 94,
   "id": "1ad211bc-59fe-43e7-8633-3b9ac8f70cdc",
   "metadata": {},
   "outputs": [
    {
     "data": {
      "text/html": [
       "<div>\n",
       "<style scoped>\n",
       "    .dataframe tbody tr th:only-of-type {\n",
       "        vertical-align: middle;\n",
       "    }\n",
       "\n",
       "    .dataframe tbody tr th {\n",
       "        vertical-align: top;\n",
       "    }\n",
       "\n",
       "    .dataframe thead th {\n",
       "        text-align: right;\n",
       "    }\n",
       "</style>\n",
       "<table border=\"1\" class=\"dataframe\">\n",
       "  <thead>\n",
       "    <tr style=\"text-align: right;\">\n",
       "      <th></th>\n",
       "      <th>Energy Source</th>\n",
       "      <th>Energy Consumption (MWh)</th>\n",
       "      <th>Cost (Million $)</th>\n",
       "    </tr>\n",
       "  </thead>\n",
       "  <tbody>\n",
       "    <tr>\n",
       "      <th>1</th>\n",
       "      <td>Wind</td>\n",
       "      <td>NaN</td>\n",
       "      <td>400.0</td>\n",
       "    </tr>\n",
       "    <tr>\n",
       "      <th>2</th>\n",
       "      <td>Hydropower</td>\n",
       "      <td>2900.0</td>\n",
       "      <td>NaN</td>\n",
       "    </tr>\n",
       "    <tr>\n",
       "      <th>3</th>\n",
       "      <td>Geothermal</td>\n",
       "      <td>NaN</td>\n",
       "      <td>150.0</td>\n",
       "    </tr>\n",
       "    <tr>\n",
       "      <th>4</th>\n",
       "      <td>Biomass</td>\n",
       "      <td>2500.0</td>\n",
       "      <td>250.0</td>\n",
       "    </tr>\n",
       "    <tr>\n",
       "      <th>5</th>\n",
       "      <td>Nuclear</td>\n",
       "      <td>3200.0</td>\n",
       "      <td>NaN</td>\n",
       "    </tr>\n",
       "  </tbody>\n",
       "</table>\n",
       "</div>"
      ],
      "text/plain": [
       "  Energy Source  Energy Consumption (MWh)  Cost (Million $)\n",
       "1          Wind                       NaN             400.0\n",
       "2    Hydropower                    2900.0               NaN\n",
       "3    Geothermal                       NaN             150.0\n",
       "4       Biomass                    2500.0             250.0\n",
       "5       Nuclear                    3200.0               NaN"
      ]
     },
     "execution_count": 94,
     "metadata": {},
     "output_type": "execute_result"
    }
   ],
   "source": [
    "energy_df.tail()"
   ]
  },
  {
   "cell_type": "code",
   "execution_count": 95,
   "id": "f0ddfbf0-da21-4755-b2a0-3903ffbd3d20",
   "metadata": {},
   "outputs": [
    {
     "name": "stdout",
     "output_type": "stream",
     "text": [
      "data after removing the rows with missing values: \n"
     ]
    },
    {
     "data": {
      "text/html": [
       "<div>\n",
       "<style scoped>\n",
       "    .dataframe tbody tr th:only-of-type {\n",
       "        vertical-align: middle;\n",
       "    }\n",
       "\n",
       "    .dataframe tbody tr th {\n",
       "        vertical-align: top;\n",
       "    }\n",
       "\n",
       "    .dataframe thead th {\n",
       "        text-align: right;\n",
       "    }\n",
       "</style>\n",
       "<table border=\"1\" class=\"dataframe\">\n",
       "  <thead>\n",
       "    <tr style=\"text-align: right;\">\n",
       "      <th></th>\n",
       "      <th>Energy Source</th>\n",
       "      <th>Energy Consumption (MWh)</th>\n",
       "      <th>Cost (Million $)</th>\n",
       "    </tr>\n",
       "  </thead>\n",
       "  <tbody>\n",
       "    <tr>\n",
       "      <th>0</th>\n",
       "      <td>Solar</td>\n",
       "      <td>1200.0</td>\n",
       "      <td>200.0</td>\n",
       "    </tr>\n",
       "    <tr>\n",
       "      <th>4</th>\n",
       "      <td>Biomass</td>\n",
       "      <td>2500.0</td>\n",
       "      <td>250.0</td>\n",
       "    </tr>\n",
       "  </tbody>\n",
       "</table>\n",
       "</div>"
      ],
      "text/plain": [
       "  Energy Source  Energy Consumption (MWh)  Cost (Million $)\n",
       "0         Solar                    1200.0             200.0\n",
       "4       Biomass                    2500.0             250.0"
      ]
     },
     "execution_count": 95,
     "metadata": {},
     "output_type": "execute_result"
    }
   ],
   "source": [
    "cleaned_df=energy_df.dropna()\n",
    "print(\"data after removing the rows with missing values: \")\n",
    "cleaned_df.head()"
   ]
  },
  {
   "cell_type": "code",
   "execution_count": 96,
   "id": "39934a52-0f49-4bea-b6a9-e4e2869deeb0",
   "metadata": {},
   "outputs": [
    {
     "data": {
      "text/plain": [
       "2450.0"
      ]
     },
     "execution_count": 96,
     "metadata": {},
     "output_type": "execute_result"
    }
   ],
   "source": [
    "ec_mean=energy_df[\"Energy Consumption (MWh)\"].mean()\n",
    "ec_mean"
   ]
  },
  {
   "cell_type": "code",
   "execution_count": 97,
   "id": "20b27f30-1f5d-4b27-b023-59a37696d348",
   "metadata": {},
   "outputs": [
    {
     "data": {
      "text/plain": [
       "250.0"
      ]
     },
     "execution_count": 97,
     "metadata": {},
     "output_type": "execute_result"
    }
   ],
   "source": [
    "cost_mean=energy_df[\"Cost (Million $)\"].mean()\n",
    "cost_mean"
   ]
  },
  {
   "cell_type": "code",
   "execution_count": 98,
   "id": "2468f5cf-928b-4eee-a423-34f0e9136912",
   "metadata": {},
   "outputs": [
    {
     "name": "stdout",
     "output_type": "stream",
     "text": [
      "\n",
      "DataFrame with Imputed Values:\n"
     ]
    },
    {
     "name": "stderr",
     "output_type": "stream",
     "text": [
      "C:\\Users\\mahek\\AppData\\Local\\Temp\\ipykernel_17392\\1547589621.py:1: FutureWarning: A value is trying to be set on a copy of a DataFrame or Series through chained assignment using an inplace method.\n",
      "The behavior will change in pandas 3.0. This inplace method will never work because the intermediate object on which we are setting values always behaves as a copy.\n",
      "\n",
      "For example, when doing 'df[col].method(value, inplace=True)', try using 'df.method({col: value}, inplace=True)' or df[col] = df[col].method(value) instead, to perform the operation inplace on the original object.\n",
      "\n",
      "\n",
      "  energy_df[\"Energy Consumption (MWh)\"].fillna(ec_mean,inplace=True)\n"
     ]
    },
    {
     "data": {
      "text/html": [
       "<div>\n",
       "<style scoped>\n",
       "    .dataframe tbody tr th:only-of-type {\n",
       "        vertical-align: middle;\n",
       "    }\n",
       "\n",
       "    .dataframe tbody tr th {\n",
       "        vertical-align: top;\n",
       "    }\n",
       "\n",
       "    .dataframe thead th {\n",
       "        text-align: right;\n",
       "    }\n",
       "</style>\n",
       "<table border=\"1\" class=\"dataframe\">\n",
       "  <thead>\n",
       "    <tr style=\"text-align: right;\">\n",
       "      <th></th>\n",
       "      <th>Energy Source</th>\n",
       "      <th>Energy Consumption (MWh)</th>\n",
       "      <th>Cost (Million $)</th>\n",
       "    </tr>\n",
       "  </thead>\n",
       "  <tbody>\n",
       "    <tr>\n",
       "      <th>0</th>\n",
       "      <td>Solar</td>\n",
       "      <td>1200.0</td>\n",
       "      <td>200.0</td>\n",
       "    </tr>\n",
       "    <tr>\n",
       "      <th>1</th>\n",
       "      <td>Wind</td>\n",
       "      <td>2450.0</td>\n",
       "      <td>400.0</td>\n",
       "    </tr>\n",
       "    <tr>\n",
       "      <th>2</th>\n",
       "      <td>Hydropower</td>\n",
       "      <td>2900.0</td>\n",
       "      <td>250.0</td>\n",
       "    </tr>\n",
       "    <tr>\n",
       "      <th>3</th>\n",
       "      <td>Geothermal</td>\n",
       "      <td>2450.0</td>\n",
       "      <td>150.0</td>\n",
       "    </tr>\n",
       "    <tr>\n",
       "      <th>4</th>\n",
       "      <td>Biomass</td>\n",
       "      <td>2500.0</td>\n",
       "      <td>250.0</td>\n",
       "    </tr>\n",
       "  </tbody>\n",
       "</table>\n",
       "</div>"
      ],
      "text/plain": [
       "  Energy Source  Energy Consumption (MWh)  Cost (Million $)\n",
       "0         Solar                    1200.0             200.0\n",
       "1          Wind                    2450.0             400.0\n",
       "2    Hydropower                    2900.0             250.0\n",
       "3    Geothermal                    2450.0             150.0\n",
       "4       Biomass                    2500.0             250.0"
      ]
     },
     "execution_count": 98,
     "metadata": {},
     "output_type": "execute_result"
    }
   ],
   "source": [
    "energy_df[\"Energy Consumption (MWh)\"].fillna(ec_mean,inplace=True)\n",
    "energy_df[\"Cost (Million $)\"]=energy_df[\"Cost (Million $)\"].fillna(cost_mean)\n",
    "print(\"\\nDataFrame with Imputed Values:\")\n",
    "energy_df.head()"
   ]
  },
  {
   "cell_type": "code",
   "execution_count": 99,
   "id": "aa36e1d7-19ce-4817-a047-4862c9daa653",
   "metadata": {},
   "outputs": [
    {
     "name": "stderr",
     "output_type": "stream",
     "text": [
      "C:\\Users\\mahek\\AppData\\Local\\Temp\\ipykernel_17392\\3396147007.py:1: FutureWarning: DataFrame.fillna with 'method' is deprecated and will raise in a future version. Use obj.ffill() or obj.bfill() instead.\n",
      "  forward_filled_df = energy_df.fillna(method='ffill')\n"
     ]
    },
    {
     "name": "stdout",
     "output_type": "stream",
     "text": [
      "\n",
      "Data Before Forward Filling:\n",
      "  Energy Source  Energy Consumption (MWh)  Cost (Million $)\n",
      "0         Solar                    1200.0             200.0\n",
      "1          Wind                    2450.0             400.0\n",
      "2    Hydropower                    2900.0             250.0\n",
      "3    Geothermal                    2450.0             150.0\n",
      "4       Biomass                    2500.0             250.0\n",
      "5       Nuclear                    3200.0             250.0\n",
      "\n",
      "Data After Forward Filling:\n"
     ]
    },
    {
     "data": {
      "text/html": [
       "<div>\n",
       "<style scoped>\n",
       "    .dataframe tbody tr th:only-of-type {\n",
       "        vertical-align: middle;\n",
       "    }\n",
       "\n",
       "    .dataframe tbody tr th {\n",
       "        vertical-align: top;\n",
       "    }\n",
       "\n",
       "    .dataframe thead th {\n",
       "        text-align: right;\n",
       "    }\n",
       "</style>\n",
       "<table border=\"1\" class=\"dataframe\">\n",
       "  <thead>\n",
       "    <tr style=\"text-align: right;\">\n",
       "      <th></th>\n",
       "      <th>Energy Source</th>\n",
       "      <th>Energy Consumption (MWh)</th>\n",
       "      <th>Cost (Million $)</th>\n",
       "    </tr>\n",
       "  </thead>\n",
       "  <tbody>\n",
       "    <tr>\n",
       "      <th>0</th>\n",
       "      <td>Solar</td>\n",
       "      <td>1200.0</td>\n",
       "      <td>200.0</td>\n",
       "    </tr>\n",
       "    <tr>\n",
       "      <th>1</th>\n",
       "      <td>Wind</td>\n",
       "      <td>2450.0</td>\n",
       "      <td>400.0</td>\n",
       "    </tr>\n",
       "    <tr>\n",
       "      <th>2</th>\n",
       "      <td>Hydropower</td>\n",
       "      <td>2900.0</td>\n",
       "      <td>250.0</td>\n",
       "    </tr>\n",
       "    <tr>\n",
       "      <th>3</th>\n",
       "      <td>Geothermal</td>\n",
       "      <td>2450.0</td>\n",
       "      <td>150.0</td>\n",
       "    </tr>\n",
       "    <tr>\n",
       "      <th>4</th>\n",
       "      <td>Biomass</td>\n",
       "      <td>2500.0</td>\n",
       "      <td>250.0</td>\n",
       "    </tr>\n",
       "  </tbody>\n",
       "</table>\n",
       "</div>"
      ],
      "text/plain": [
       "  Energy Source  Energy Consumption (MWh)  Cost (Million $)\n",
       "0         Solar                    1200.0             200.0\n",
       "1          Wind                    2450.0             400.0\n",
       "2    Hydropower                    2900.0             250.0\n",
       "3    Geothermal                    2450.0             150.0\n",
       "4       Biomass                    2500.0             250.0"
      ]
     },
     "execution_count": 99,
     "metadata": {},
     "output_type": "execute_result"
    }
   ],
   "source": [
    "forward_filled_df = energy_df.fillna(method='ffill')\n",
    "print(\"\\nData Before Forward Filling:\")\n",
    "print(energy_df)\n",
    "print(\"\\nData After Forward Filling:\")\n",
    "forward_filled_df.head()"
   ]
  },
  {
   "cell_type": "code",
   "execution_count": 100,
   "id": "af3c0f48-5c27-4901-a780-48e8443474ef",
   "metadata": {},
   "outputs": [
    {
     "name": "stdout",
     "output_type": "stream",
     "text": [
      "\n",
      "Data after Normalized Data(Min-Max Scaling):\n",
      "  Energy Source  Energy Consumption (MWh)  Cost (Million $)\n",
      "0         Solar                     0.000               0.2\n",
      "1          Wind                     0.625               1.0\n",
      "2    Hydropower                     0.850               0.4\n",
      "3    Geothermal                     0.625               0.0\n",
      "4       Biomass                     0.650               0.4\n",
      "5       Nuclear                     1.000               0.4\n"
     ]
    }
   ],
   "source": [
    "#flag values\n",
    "#normalisation --->  used to reduce time reqiured for computation --->  X' =(X - Xmin)/(Xmax-Xmin) \n",
    "#standard scaler / z score  z= (x-mean)/std deivation\n",
    "from sklearn.preprocessing import MinMaxScaler\n",
    "scaler = MinMaxScaler()\n",
    "energy_df[['Energy Consumption (MWh)', 'Cost (Million $)']] = scaler.fit_transform(energy_df[['Energy Consumption (MWh)', 'Cost (Million $)']])\n",
    "print(\"\\nData after Normalized Data(Min-Max Scaling):\")\n",
    "print(energy_df)"
   ]
  },
  {
   "cell_type": "code",
   "execution_count": 101,
   "id": "d5281ae7-b613-44b7-80eb-9379105abfff",
   "metadata": {},
   "outputs": [
    {
     "name": "stdout",
     "output_type": "stream",
     "text": [
      "\n",
      "Data after Normalized Data(Z-Score Scaling):\n",
      "  Energy Source  Energy Consumption (MWh)  Cost (Million $)\n",
      "0         Solar             -2.005893e+00     -6.546537e-01\n",
      "1          Wind              3.563181e-16      1.963961e+00\n",
      "2    Hydropower              7.221213e-01      1.817029e-16\n",
      "3    Geothermal              3.563181e-16     -1.309307e+00\n",
      "4       Biomass              8.023570e-02      1.817029e-16\n",
      "5       Nuclear              1.203536e+00      1.817029e-16\n"
     ]
    }
   ],
   "source": [
    "from sklearn.preprocessing import StandardScaler\n",
    "scaler = StandardScaler()\n",
    "energy_df[['Energy Consumption (MWh)', 'Cost (Million $)']] = scaler.fit_transform(energy_df[['Energy Consumption (MWh)', 'Cost (Million $)']])\n",
    "print(\"\\nData after Normalized Data(Z-Score Scaling):\")\n",
    "print(energy_df)"
   ]
  },
  {
   "cell_type": "code",
   "execution_count": 120,
   "id": "bbcbc944-5745-4b28-9fc9-959977aecf24",
   "metadata": {},
   "outputs": [
    {
     "name": "stdout",
     "output_type": "stream",
     "text": [
      "Data after One-Hot Encoding Categorical variables: \n"
     ]
    },
    {
     "data": {
      "text/html": [
       "<div>\n",
       "<style scoped>\n",
       "    .dataframe tbody tr th:only-of-type {\n",
       "        vertical-align: middle;\n",
       "    }\n",
       "\n",
       "    .dataframe tbody tr th {\n",
       "        vertical-align: top;\n",
       "    }\n",
       "\n",
       "    .dataframe thead th {\n",
       "        text-align: right;\n",
       "    }\n",
       "</style>\n",
       "<table border=\"1\" class=\"dataframe\">\n",
       "  <thead>\n",
       "    <tr style=\"text-align: right;\">\n",
       "      <th></th>\n",
       "      <th>Energy Consumption (MWh)</th>\n",
       "      <th>Cost (Million $)</th>\n",
       "      <th>Energy Source_Biomass</th>\n",
       "      <th>Energy Source_Geothermal</th>\n",
       "      <th>Energy Source_Hydropower</th>\n",
       "      <th>Energy Source_Nuclear</th>\n",
       "      <th>Energy Source_Solar</th>\n",
       "      <th>Energy Source_Wind</th>\n",
       "    </tr>\n",
       "  </thead>\n",
       "  <tbody>\n",
       "    <tr>\n",
       "      <th>0</th>\n",
       "      <td>-2.005893e+00</td>\n",
       "      <td>-6.546537e-01</td>\n",
       "      <td>False</td>\n",
       "      <td>False</td>\n",
       "      <td>False</td>\n",
       "      <td>False</td>\n",
       "      <td>True</td>\n",
       "      <td>False</td>\n",
       "    </tr>\n",
       "    <tr>\n",
       "      <th>1</th>\n",
       "      <td>3.563181e-16</td>\n",
       "      <td>1.963961e+00</td>\n",
       "      <td>False</td>\n",
       "      <td>False</td>\n",
       "      <td>False</td>\n",
       "      <td>False</td>\n",
       "      <td>False</td>\n",
       "      <td>True</td>\n",
       "    </tr>\n",
       "    <tr>\n",
       "      <th>2</th>\n",
       "      <td>7.221213e-01</td>\n",
       "      <td>1.817029e-16</td>\n",
       "      <td>False</td>\n",
       "      <td>False</td>\n",
       "      <td>True</td>\n",
       "      <td>False</td>\n",
       "      <td>False</td>\n",
       "      <td>False</td>\n",
       "    </tr>\n",
       "    <tr>\n",
       "      <th>3</th>\n",
       "      <td>3.563181e-16</td>\n",
       "      <td>-1.309307e+00</td>\n",
       "      <td>False</td>\n",
       "      <td>True</td>\n",
       "      <td>False</td>\n",
       "      <td>False</td>\n",
       "      <td>False</td>\n",
       "      <td>False</td>\n",
       "    </tr>\n",
       "    <tr>\n",
       "      <th>4</th>\n",
       "      <td>8.023570e-02</td>\n",
       "      <td>1.817029e-16</td>\n",
       "      <td>True</td>\n",
       "      <td>False</td>\n",
       "      <td>False</td>\n",
       "      <td>False</td>\n",
       "      <td>False</td>\n",
       "      <td>False</td>\n",
       "    </tr>\n",
       "  </tbody>\n",
       "</table>\n",
       "</div>"
      ],
      "text/plain": [
       "   Energy Consumption (MWh)  Cost (Million $)  Energy Source_Biomass  \\\n",
       "0             -2.005893e+00     -6.546537e-01                  False   \n",
       "1              3.563181e-16      1.963961e+00                  False   \n",
       "2              7.221213e-01      1.817029e-16                  False   \n",
       "3              3.563181e-16     -1.309307e+00                  False   \n",
       "4              8.023570e-02      1.817029e-16                   True   \n",
       "\n",
       "   Energy Source_Geothermal  Energy Source_Hydropower  Energy Source_Nuclear  \\\n",
       "0                     False                     False                  False   \n",
       "1                     False                     False                  False   \n",
       "2                     False                      True                  False   \n",
       "3                      True                     False                  False   \n",
       "4                     False                     False                  False   \n",
       "\n",
       "   Energy Source_Solar  Energy Source_Wind  \n",
       "0                 True               False  \n",
       "1                False                True  \n",
       "2                False               False  \n",
       "3                False               False  \n",
       "4                False               False  "
      ]
     },
     "execution_count": 120,
     "metadata": {},
     "output_type": "execute_result"
    }
   ],
   "source": [
    "#encoding categorical values\n",
    "energy_encoded_df=pd.get_dummies(energy_df,columns=[\"Energy Source\"])\n",
    "print(\"Data after One-Hot Encoding Categorical variables: \")\n",
    "energy_encoded_df.head()"
   ]
  },
  {
   "cell_type": "code",
   "execution_count": null,
   "id": "1168f109-4b34-470f-9285-03c9db690604",
   "metadata": {},
   "outputs": [],
   "source": []
  }
 ],
 "metadata": {
  "kernelspec": {
   "display_name": "Python [conda env:base] *",
   "language": "python",
   "name": "conda-base-py"
  },
  "language_info": {
   "codemirror_mode": {
    "name": "ipython",
    "version": 3
   },
   "file_extension": ".py",
   "mimetype": "text/x-python",
   "name": "python",
   "nbconvert_exporter": "python",
   "pygments_lexer": "ipython3",
   "version": "3.12.7"
  }
 },
 "nbformat": 4,
 "nbformat_minor": 5
}
