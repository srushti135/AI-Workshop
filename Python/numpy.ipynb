{
 "cells": [
  {
   "cell_type": "code",
   "execution_count": 1,
   "id": "86d8ac9f-adf0-4dca-ae37-757ea3e0f758",
   "metadata": {},
   "outputs": [
    {
     "name": "stdout",
     "output_type": "stream",
     "text": [
      "\n",
      "Energy Consumption:\n",
      "[1200 3400 2900 1800 2500]\n"
     ]
    }
   ],
   "source": [
    "import numpy as np\n",
    "energy_consumption=np.array([1200,3400,2900,1800,2500])\n",
    "print(\"\\nEnergy Consumption:\")\n",
    "print(energy_consumption)"
   ]
  },
  {
   "cell_type": "code",
   "execution_count": 17,
   "id": "7c49f080-c66d-46ba-aea3-c7f9f9f4876c",
   "metadata": {},
   "outputs": [
    {
     "data": {
      "text/plain": [
       "array([[1, 2, 3],\n",
       "       [4, 5, 6],\n",
       "       [7, 8, 9]])"
      ]
     },
     "execution_count": 17,
     "metadata": {},
     "output_type": "execute_result"
    }
   ],
   "source": [
    "mylist=[[1,2,3],[4,5,6,],[7,8,9]]\n",
    "np.array(mylist)"
   ]
  },
  {
   "cell_type": "code",
   "execution_count": 9,
   "id": "d20120c5-2ea7-4add-b401-06cecf2f2864",
   "metadata": {},
   "outputs": [
    {
     "data": {
      "text/plain": [
       "array([-0.20566436, -0.42067397,  0.42485438, -1.55109076])"
      ]
     },
     "execution_count": 9,
     "metadata": {},
     "output_type": "execute_result"
    }
   ],
   "source": [
    "np.random.randn(4)"
   ]
  },
  {
   "cell_type": "code",
   "execution_count": 7,
   "id": "8cd7287c-2f68-4c0a-a720-8c6581b3a95f",
   "metadata": {},
   "outputs": [
    {
     "data": {
      "text/plain": [
       "array([[0.37468224, 0.03025187, 0.58367678, 0.01957802],\n",
       "       [0.08601401, 0.75152824, 0.14765488, 0.78099597],\n",
       "       [0.78294946, 0.40984153, 0.0531497 , 0.12636542],\n",
       "       [0.06848295, 0.73423452, 0.26171315, 0.97797317]])"
      ]
     },
     "execution_count": 7,
     "metadata": {},
     "output_type": "execute_result"
    }
   ],
   "source": [
    "np.random.rand(4,4)"
   ]
  },
  {
   "cell_type": "code",
   "execution_count": 29,
   "id": "082de7a7-274b-4bac-8fa2-0f4ff847c23f",
   "metadata": {},
   "outputs": [
    {
     "data": {
      "text/plain": [
       "0.9222232832026948"
      ]
     },
     "execution_count": 29,
     "metadata": {},
     "output_type": "execute_result"
    }
   ],
   "source": [
    "#.dim\n",
    "x=np.random.rand(5)\n",
    "np.max(x)"
   ]
  },
  {
   "cell_type": "code",
   "execution_count": 39,
   "id": "aabb6e66-0746-4855-851f-d16a21209143",
   "metadata": {},
   "outputs": [
    {
     "data": {
      "text/plain": [
       "array([0., 0., 0., 0., 0.])"
      ]
     },
     "execution_count": 39,
     "metadata": {},
     "output_type": "execute_result"
    }
   ],
   "source": [
    "np.zeros(5)"
   ]
  },
  {
   "cell_type": "code",
   "execution_count": 41,
   "id": "91efbcbd-b317-443e-a748-209a474e282b",
   "metadata": {},
   "outputs": [
    {
     "data": {
      "text/plain": [
       "array([1., 1.])"
      ]
     },
     "execution_count": 41,
     "metadata": {},
     "output_type": "execute_result"
    }
   ],
   "source": [
    "np.ones(2)"
   ]
  },
  {
   "cell_type": "code",
   "execution_count": 37,
   "id": "4cba96f1-6769-4a74-8edd-3f4dd475653f",
   "metadata": {},
   "outputs": [
    {
     "data": {
      "text/plain": [
       "array([0, 1, 2, 3, 4, 5, 6, 7, 8, 9])"
      ]
     },
     "execution_count": 37,
     "metadata": {},
     "output_type": "execute_result"
    }
   ],
   "source": [
    "np.arange(10)"
   ]
  },
  {
   "cell_type": "code",
   "execution_count": 45,
   "id": "fe84d02d-8ae4-49ee-9b13-6c68f3060ec3",
   "metadata": {},
   "outputs": [
    {
     "name": "stdout",
     "output_type": "stream",
     "text": [
      "total energy consumption: 11800\n"
     ]
    }
   ],
   "source": [
    "total_consumption=np.sum(energy_consumption)\n",
    "print(f\"total energy consumption: {total_consumption}\")"
   ]
  },
  {
   "cell_type": "code",
   "execution_count": 51,
   "id": "5a2d2b36-3f32-4f79-addf-ff74056a106b",
   "metadata": {},
   "outputs": [
    {
     "name": "stdout",
     "output_type": "stream",
     "text": [
      "mean energy consumption 2360.00\n"
     ]
    }
   ],
   "source": [
    "mean_consumption=np.mean(energy_consumption)\n",
    "print(f\"mean energy consumption {mean_consumption:.2f}\")"
   ]
  },
  {
   "cell_type": "code",
   "execution_count": 59,
   "id": "d9c24fc4-a011-4edf-a5a9-76961398034d",
   "metadata": {},
   "outputs": [
    {
     "name": "stdout",
     "output_type": "stream",
     "text": [
      "standard deviation energy consumption 781.28\n"
     ]
    }
   ],
   "source": [
    "std_consumption=np.std(energy_consumption)\n",
    "print(f\"standard deviation energy consumption {std_consumption:.2f}\")"
   ]
  },
  {
   "cell_type": "code",
   "execution_count": 61,
   "id": "00fb6e4f-de55-4013-81f9-72c8b351feb1",
   "metadata": {},
   "outputs": [
    {
     "name": "stdout",
     "output_type": "stream",
     "text": [
      "reshaped energy array(5x1): \n",
      "[[1200]\n",
      " [3400]\n",
      " [2900]\n",
      " [1800]\n",
      " [2500]]\n"
     ]
    }
   ],
   "source": [
    "reshaped_array=energy_consumption.reshape((5,1))\n",
    "print(\"reshaped energy array(5x1): \")\n",
    "print(reshaped_array)"
   ]
  },
  {
   "cell_type": "code",
   "execution_count": null,
   "id": "7750dd30-2ded-4c49-8f0e-b08ab806fc54",
   "metadata": {},
   "outputs": [],
   "source": []
  },
  {
   "cell_type": "code",
   "execution_count": null,
   "id": "2761f4c0-a4db-4f6e-81e9-bab81f3ed58b",
   "metadata": {},
   "outputs": [],
   "source": []
  }
 ],
 "metadata": {
  "kernelspec": {
   "display_name": "Python [conda env:base] *",
   "language": "python",
   "name": "conda-base-py"
  },
  "language_info": {
   "codemirror_mode": {
    "name": "ipython",
    "version": 3
   },
   "file_extension": ".py",
   "mimetype": "text/x-python",
   "name": "python",
   "nbconvert_exporter": "python",
   "pygments_lexer": "ipython3",
   "version": "3.12.7"
  }
 },
 "nbformat": 4,
 "nbformat_minor": 5
}
